{
 "cells": [
  {
   "cell_type": "code",
   "execution_count": 1,
   "metadata": {},
   "outputs": [],
   "source": [
    "import requests"
   ]
  },
  {
   "cell_type": "code",
   "execution_count": 2,
   "metadata": {},
   "outputs": [
    {
     "name": "stdout",
     "output_type": "stream",
     "text": [
      "Connection Established Succesfully\n",
      "{'prediction': 25.0}\n"
     ]
    }
   ],
   "source": [
    "d = {'state':'Orissa','district':'Gajapati','date':'2023-02-01'}\n",
    "r = requests.post('http://a761-202-160-145-19.ngrok-free.app/predict',json=d)\n",
    "print('Connection Established Succesfully')\n",
    "print(r.json())"
   ]
  },
  {
   "cell_type": "code",
   "execution_count": 3,
   "metadata": {},
   "outputs": [
    {
     "name": "stdout",
     "output_type": "stream",
     "text": [
      "{'prediction': 25.0}\n"
     ]
    }
   ],
   "source": [
    "d1 = {'state':'Meghalaya','district':'East Garo Hills','date':'2024-05-06'}\n",
    "r1 = requests.post('http://a761-202-160-145-19.ngrok-free.app/predict',json=d)\n",
    "print(r1.json())"
   ]
  },
  {
   "cell_type": "code",
   "execution_count": null,
   "metadata": {},
   "outputs": [],
   "source": []
  }
 ],
 "metadata": {
  "kernelspec": {
   "display_name": "Python 3",
   "language": "python",
   "name": "python3"
  },
  "language_info": {
   "codemirror_mode": {
    "name": "ipython",
    "version": 3
   },
   "file_extension": ".py",
   "mimetype": "text/x-python",
   "name": "python",
   "nbconvert_exporter": "python",
   "pygments_lexer": "ipython3",
   "version": "3.11.1"
  },
  "orig_nbformat": 4
 },
 "nbformat": 4,
 "nbformat_minor": 2
}
